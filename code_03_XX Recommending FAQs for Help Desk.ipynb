{
 "cells": [
  {
   "cell_type": "markdown",
   "metadata": {},
   "source": [
    "# 03. Self-Service Help Desk\n",
    "\n"
   ]
  },
  {
   "cell_type": "code",
   "execution_count": 1,
   "metadata": {},
   "outputs": [
    {
     "name": "stdout",
     "output_type": "stream",
     "text": [
      "Collecting package metadata (current_repodata.json): done\n",
      "Solving environment: - ^C\n",
      "failed with initial frozen solve. Retrying with flexible solve.\n",
      "\n",
      "CondaError: KeyboardInterrupt\n",
      "\n"
     ]
    }
   ],
   "source": [
    "#Install all related packages. If you find additional packages missing, please follow the same technique.\n",
    "#If you are not using anaconda, then use pip to install the same packages\n",
    "\n",
    "import sys\n",
    "!conda install --yes --prefix {sys.prefix} pandas tensorflow scikit-learn gensim"
   ]
  },
  {
   "cell_type": "markdown",
   "metadata": {},
   "source": [
    "## 03.04. Building a Document Vector"
   ]
  },
  {
   "cell_type": "code",
   "execution_count": 2,
   "metadata": {},
   "outputs": [
    {
     "name": "stdout",
     "output_type": "stream",
     "text": [
      "HelpDesk Data: \n",
      "                                            Question  \\\n",
      "0              My Mac does not boot, what can I do ?   \n",
      "1                Can Mac Air get infected by a Virus   \n",
      "2   My Mac is having boot problems, how do I fix it?   \n",
      "3                 Do I need an anti virus on my Mac?   \n",
      "4  I have trouble connecting my monitor to my Mac...   \n",
      "\n",
      "                   LinkToAnswer  \n",
      "0  http://faq/mac-does-not-boot  \n",
      "1     http://faq/mac-book-virus  \n",
      "2  http://faq/mac-does-not-boot  \n",
      "3     http://faq/mac-book-virus  \n",
      "4  http://faq/mac-monitor-setup  \n"
     ]
    }
   ],
   "source": [
    "from collections import defaultdict\n",
    "from gensim import corpora\n",
    "from gensim.parsing.preprocessing import remove_stopwords\n",
    "import numpy as np\n",
    "import os\n",
    "import pandas as pd\n",
    "\n",
    "#Read the input CSV into a Pandas dataframe\n",
    "helpdesk_data = pd.read_csv(\"helpdesk_dataset.csv\")\n",
    "\n",
    "print(\"HelpDesk Data: \")\n",
    "print(helpdesk_data.head())\n",
    "\n"
   ]
  },
  {
   "cell_type": "code",
   "execution_count": 4,
   "metadata": {},
   "outputs": [
    {
     "data": {
      "text/plain": [
       "0                My Mac does not boot, what can I do ?\n",
       "1                  Can Mac Air get infected by a Virus\n",
       "2     My Mac is having boot problems, how do I fix it?\n",
       "3                   Do I need an anti virus on my Mac?\n",
       "4    I have trouble connecting my monitor to my Mac...\n",
       "5    When my Mac boots, it shows an unsupporterd so...\n",
       "6    My Monitor does not show in proper resolution ...\n",
       "7      I see a flicker in my monitor. Is that a virus?\n",
       "8                Can I use a HDMI monitor with my Mac?\n",
       "9                Can I connect two monitors to my Mac?\n",
       "Name: Question, dtype: object"
      ]
     },
     "execution_count": 4,
     "metadata": {},
     "output_type": "execute_result"
    }
   ],
   "source": [
    "#Extract the Question column \n",
    "documents = helpdesk_data[\"Question\"]\n",
    "documents"
   ]
  },
  {
   "cell_type": "code",
   "execution_count": 15,
   "metadata": {},
   "outputs": [
    {
     "name": "stdout",
     "output_type": "stream",
     "text": [
      "Can Mac Air get infected by a Virus\n",
      "['mac', 'air', 'infected', 'virus']\n"
     ]
    }
   ],
   "source": [
    "#Function to cleanse document\n",
    "def process_document(document):\n",
    "\n",
    "    #Remove stopwords, convert to lower case and remove \"?\" character\n",
    "    cleaned_document = remove_stopwords(document.lower()).replace(\"?\",\"\").replace(\",\",\"\").replace(\".\",\"\")\n",
    "    return cleaned_document.split()\n",
    "\n",
    "#Create a document vector\n",
    "doc_vectors=[process_document(document)\n",
    "             for document in documents]\n",
    "\n",
    "#Print the document and the corresponding document vector to compare\n",
    "print(documents[1])\n",
    "print(doc_vectors[1])"
   ]
  },
  {
   "cell_type": "markdown",
   "metadata": {},
   "source": [
    "## 03.05. Creating the LSI Model"
   ]
  },
  {
   "cell_type": "code",
   "execution_count": 16,
   "metadata": {},
   "outputs": [
    {
     "name": "stdout",
     "output_type": "stream",
     "text": [
      "Dictionary created :\n"
     ]
    },
    {
     "data": {
      "text/plain": [
       "{'boot': 0,\n",
       " 'mac': 1,\n",
       " 'air': 2,\n",
       " 'infected': 3,\n",
       " 'virus': 4,\n",
       " 'fix': 5,\n",
       " 'having': 6,\n",
       " 'it': 7,\n",
       " 'problems': 8,\n",
       " 'anti': 9,\n",
       " 'need': 10,\n",
       " 'connecting': 11,\n",
       " 'help': 12,\n",
       " 'monitor': 13,\n",
       " 'trouble': 14,\n",
       " 'boots': 15,\n",
       " 'error': 16,\n",
       " 'shows': 17,\n",
       " 'software': 18,\n",
       " 'unsupporterd': 19,\n",
       " 'connected': 20,\n",
       " 'proper': 21,\n",
       " 'resolution': 22,\n",
       " 'flicker': 23,\n",
       " 'hdmi': 24,\n",
       " 'use': 25,\n",
       " 'connect': 26,\n",
       " 'monitors': 27}"
      ]
     },
     "execution_count": 16,
     "metadata": {},
     "output_type": "execute_result"
    }
   ],
   "source": [
    "#Create the dictionary\n",
    "dictionary = corpora.Dictionary(doc_vectors)\n",
    "\n",
    "print(\"Dictionary created :\")\n",
    "dictionary.token2id\n"
   ]
  },
  {
   "cell_type": "code",
   "execution_count": 17,
   "metadata": {},
   "outputs": [
    {
     "name": "stdout",
     "output_type": "stream",
     "text": [
      "['mac', 'air', 'infected', 'virus']\n",
      "[(1, 1), (2, 1), (3, 1), (4, 1)]\n"
     ]
    }
   ],
   "source": [
    "#Create a corpus\n",
    "corpus = [dictionary.doc2bow(doc_vector) \n",
    "          for doc_vector in doc_vectors]\n",
    "\n",
    "#Review the corpus generated\n",
    "print(doc_vectors[1])\n",
    "print(corpus[1])"
   ]
  },
  {
   "cell_type": "code",
   "execution_count": 11,
   "metadata": {},
   "outputs": [
    {
     "name": "stdout",
     "output_type": "stream",
     "text": [
      "['mac', 'having', 'boot', 'problems,', 'fix', 'it']\n",
      "[(1, 1), (5, 1), (6, 1), (7, 1), (8, 1), (9, 1)]\n"
     ]
    }
   ],
   "source": [
    "print(doc_vectors[2])\n",
    "print(corpus[2])"
   ]
  },
  {
   "cell_type": "markdown",
   "metadata": {},
   "source": [
    " We have 10 input documents, so we get a 10 by 10 matrix. For example, the second array lists the similarity score of the second document with all other documents in this corpus. Its similarity to itself is one. The higher the similarity, the more related these documents are."
   ]
  },
  {
   "cell_type": "code",
   "execution_count": 18,
   "metadata": {},
   "outputs": [
    {
     "name": "stdout",
     "output_type": "stream",
     "text": [
      "[ 1.0000000e+00  3.5355341e-01  5.7735032e-01  3.5355341e-01\n",
      "  3.1622773e-01  2.8867516e-01  2.6726124e-01 -4.6219215e-09\n",
      "  3.5355335e-01  4.0824834e-01]\n",
      "[0.3535534  1.         0.20412412 0.5        0.22360681 0.20412418\n",
      " 0.18898222 0.28867513 0.25       0.28867516]\n",
      "[ 5.7735032e-01  2.0412412e-01  1.0000000e+00  2.0412412e-01\n",
      "  1.8257417e-01  1.6666666e-01  4.6291003e-01 -7.7947995e-09\n",
      "  2.0412414e-01  2.3570226e-01]\n",
      "[0.3535534  0.5        0.20412412 1.         0.22360681 0.20412418\n",
      " 0.18898222 0.28867513 0.25       0.28867516]\n",
      "[0.31622773 0.22360681 0.18257417 0.22360681 0.99999994 0.18257421\n",
      " 0.33806166 0.2581989  0.44721353 0.2581989 ]\n",
      "[2.8867516e-01 2.0412418e-01 1.6666666e-01 2.0412418e-01 1.8257421e-01\n",
      " 1.0000000e+00 1.5430336e-01 2.7935844e-08 2.0412415e-01 2.3570226e-01]\n",
      "[0.26726124 0.18898222 0.46291003 0.18898222 0.33806166 0.15430336\n",
      " 1.0000001  0.21821786 0.37796444 0.2182179 ]\n",
      "[-4.6219215e-09  2.8867513e-01 -7.7947995e-09  2.8867513e-01\n",
      "  2.5819889e-01  2.7935844e-08  2.1821786e-01  1.0000000e+00\n",
      "  2.8867513e-01  3.9151482e-09]\n",
      "[0.35355335 0.25       0.20412414 0.25       0.44721353 0.20412415\n",
      " 0.37796444 0.28867513 1.         0.28867516]\n",
      "[4.0824834e-01 2.8867516e-01 2.3570226e-01 2.8867516e-01 2.5819889e-01\n",
      " 2.3570226e-01 2.1821789e-01 3.9151482e-09 2.8867516e-01 1.0000000e+00]\n"
     ]
    }
   ],
   "source": [
    "#Build the LSI Model\n",
    "from gensim import models,similarities\n",
    "\n",
    "#Create the model\n",
    "lsi = models.LsiModel(corpus, id2word=dictionary)\n",
    "\n",
    "#Create a similarity Index\n",
    "index = similarities.MatrixSimilarity(lsi[corpus])\n",
    "\n",
    "for similarities in index:\n",
    "    print(similarities)"
   ]
  },
  {
   "cell_type": "code",
   "execution_count": 21,
   "metadata": {},
   "outputs": [
    {
     "data": {
      "image/png": "[encoded data removed]",
      "text/plain": [
       "<Figure size 432x288 with 1 Axes>"
      ]
     },
     "metadata": {
      "needs_background": "light"
     },
     "output_type": "display_data"
    }
   ],
   "source": [
    "from matplotlib import pyplot as plt\n",
    "plt.imshow(index)\n",
    "plt.show()"
   ]
  },
  {
   "cell_type": "markdown",
   "metadata": {},
   "source": [
    "## 03.06. Recommending FAQs"
   ]
  },
  {
   "cell_type": "code",
   "execution_count": 13,
   "metadata": {},
   "outputs": [
    {
     "name": "stdout",
     "output_type": "stream",
     "text": [
      "Question translated to : [(1, 1), (5, 1)]\n",
      "Similarity scores : [(0, 0.67856914), (1, 0.47982085), (2, 0.7835442), (3, 0.47982085), (4, -1.4901161e-08), (5, 0.39177215), (6, -5.2154064e-08), (7, -7.450581e-09), (8, 0.47982085), (9, 0.55404943)]\n"
     ]
    }
   ],
   "source": [
    "\n",
    "question = \"I have boot problems in my Mac\"\n",
    "\n",
    "#Pre Process the Question \n",
    "question_corpus = dictionary.doc2bow(process_document(question))\n",
    "print(\"Question translated to :\", question_corpus)\n",
    "\n",
    "#Create an LSI Representation\n",
    "vec_lsi = lsi[question_corpus]  \n",
    "\n",
    "#Find similarity of the question with existing documents\n",
    "sims = index[vec_lsi]  \n",
    "print(\"Similarity scores :\",list(enumerate(sims)))"
   ]
  },
  {
   "cell_type": "code",
   "execution_count": 23,
   "metadata": {},
   "outputs": [
    {
     "name": "stdout",
     "output_type": "stream",
     "text": [
      "Sorted Document index : [2 0 9 8 3 1 5 7 4 6]\n",
      "\n",
      " ------------------------------------------------------------ \n",
      "\n",
      "0.7835442  ->  My Mac is having boot problems, how do I fix it?\n",
      "0.67856914  ->  My Mac does not boot, what can I do ?\n",
      "0.55404943  ->  Can I connect two monitors to my Mac?\n",
      "0.47982085  ->  Can I use a HDMI monitor with my Mac?\n",
      "0.47982085  ->  Do I need an anti virus on my Mac?\n",
      "0.47982085  ->  Can Mac Air get infected by a Virus\n",
      "0.39177215  ->  When my Mac boots, it shows an unsupporterd software error\n",
      "-7.450581e-09  ->  I see a flicker in my monitor. Is that a virus?\n",
      "-1.4901161e-08  ->  I have trouble connecting my monitor to my Mac. Can you please help?\n",
      "-5.2154064e-08  ->  My Monitor does not show in proper resolution when connected to my Mac. How do I fix it?\n",
      "\n",
      " ------------------------------------------------------------ \n",
      "\n",
      "Recommended FAQ : http://faq/mac-does-not-boot\n",
      "Recommended FAQ : http://faq/mac-does-not-boot\n",
      "Recommended FAQ : http://faq/mac-monitorp-setup\n"
     ]
    }
   ],
   "source": [
    "#Find the corresponding FAQ Link\n",
    "\n",
    "#sort an array in reverse order and get indexes\n",
    "matches=np.argsort(sims)[::-1] \n",
    "print(\"Sorted Document index :\", matches)\n",
    "\n",
    "print(\"\\n\", \"-\"*60, \"\\n\")\n",
    "for i in matches:\n",
    "    print(sims[i], \" -> \", helpdesk_data.iloc[i][\"Question\"])\n",
    "\n",
    "print(\"\\n\", \"-\"*60, \"\\n\")\n",
    "print(\"Recommended FAQ :\" , helpdesk_data.iloc[matches[0]][\"LinkToAnswer\"] )\n",
    "\n",
    "# Top 3:\n",
    "print(\"Recommended FAQ 2:\" , helpdesk_data.iloc[matches[1]][\"LinkToAnswer\"] )\n",
    "print(\"Recommended FAQ 3:\" , helpdesk_data.iloc[matches[2]][\"LinkToAnswer\"] )"
   ]
  },
  {
   "cell_type": "code",
   "execution_count": null,
   "metadata": {},
   "outputs": [],
   "source": []
  }
 ],
 "metadata": {
  "kernelspec": {
   "display_name": "Python 3.9.7 ('base')",
   "language": "python",
   "name": "python3"
  },
  "language_info": {
   "codemirror_mode": {
    "name": "ipython",
    "version": 3
   },
   "file_extension": ".py",
   "mimetype": "text/x-python",
   "name": "python",
   "nbconvert_exporter": "python",
   "pygments_lexer": "ipython3",
   "version": "3.9.7"
  },
  "vscode": {
   "interpreter": {
    "hash": "946db19f66b39f9b9ed77a83d9ca7f354e6eb77687ff94e9a7347e5079f19d4b"
   }
  }
 },
 "nbformat": 4,
 "nbformat_minor": 4
}
