{
 "cells": [
  {
   "cell_type": "markdown",
   "metadata": {},
   "source": [
    "#  Incident Root Cause Analysis \n",
    "\n",
    "Incident Reports in ITOps usually states the symptoms. Identifying the root cause of the symptom quickly is a key determinant to reducing resolution times and improving user satisfaction."
   ]
  },
  {
   "cell_type": "code",
   "execution_count": 2,
   "metadata": {},
   "outputs": [
    {
     "name": "stdout",
     "output_type": "stream",
     "text": [
      "Collecting package metadata (current_repodata.json): done\n",
      "Solving environment: failed with initial frozen solve. Retrying with flexible solve.\n",
      "Solving environment: failed with repodata from current_repodata.json, will retry with next repodata source.\n",
      "Collecting package metadata (repodata.json): done\n",
      "Solving environment: failed with initial frozen solve. Retrying with flexible solve.\n",
      "Solving environment: | ^C\n",
      "failed\n",
      "\n",
      "CondaError: KeyboardInterrupt\n",
      "\n"
     ]
    }
   ],
   "source": [
    "#Install all related packages. If you find additional packages missing, please follow the same technique.\n",
    "#If you are not using anaconda, then use pip to install the same packages\n",
    "\n",
    "import sys\n",
    "!conda install --yes --prefix {sys.prefix} pandas tensorflow scikit-learn"
   ]
  },
  {
   "cell_type": "markdown",
   "metadata": {},
   "source": [
    "# 02.04. Preprocessing Incident Data\n",
    "\n",
    "### Loading the Dataset"
   ]
  },
  {
   "cell_type": "code",
   "execution_count": 32,
   "metadata": {
    "scrolled": true
   },
   "outputs": [
    {
     "name": "stdout",
     "output_type": "stream",
     "text": [
      "ID              int64\n",
      "CPU_LOAD        int64\n",
      "MEMORY_LOAD     int64\n",
      "DELAY           int64\n",
      "ERROR_1000      int64\n",
      "ERROR_1001      int64\n",
      "ERROR_1002      int64\n",
      "ERROR_1003      int64\n",
      "ROOT_CAUSE     object\n",
      "dtype: object\n"
     ]
    },
    {
     "data": {
      "text/html": [
       "<div>\n",
       "<style scoped>\n",
       "    .dataframe tbody tr th:only-of-type {\n",
       "        vertical-align: middle;\n",
       "    }\n",
       "\n",
       "    .dataframe tbody tr th {\n",
       "        vertical-align: top;\n",
       "    }\n",
       "\n",
       "    .dataframe thead th {\n",
       "        text-align: right;\n",
       "    }\n",
       "</style>\n",
       "<table border=\"1\" class=\"dataframe\">\n",
       "  <thead>\n",
       "    <tr style=\"text-align: right;\">\n",
       "      <th></th>\n",
       "      <th>ID</th>\n",
       "      <th>CPU_LOAD</th>\n",
       "      <th>MEMORY_LOAD</th>\n",
       "      <th>DELAY</th>\n",
       "      <th>ERROR_1000</th>\n",
       "      <th>ERROR_1001</th>\n",
       "      <th>ERROR_1002</th>\n",
       "      <th>ERROR_1003</th>\n",
       "      <th>ROOT_CAUSE</th>\n",
       "    </tr>\n",
       "  </thead>\n",
       "  <tbody>\n",
       "    <tr>\n",
       "      <th>0</th>\n",
       "      <td>1</td>\n",
       "      <td>0</td>\n",
       "      <td>0</td>\n",
       "      <td>0</td>\n",
       "      <td>0</td>\n",
       "      <td>1</td>\n",
       "      <td>0</td>\n",
       "      <td>1</td>\n",
       "      <td>MEMORY</td>\n",
       "    </tr>\n",
       "    <tr>\n",
       "      <th>1</th>\n",
       "      <td>2</td>\n",
       "      <td>0</td>\n",
       "      <td>0</td>\n",
       "      <td>0</td>\n",
       "      <td>0</td>\n",
       "      <td>0</td>\n",
       "      <td>0</td>\n",
       "      <td>1</td>\n",
       "      <td>MEMORY</td>\n",
       "    </tr>\n",
       "    <tr>\n",
       "      <th>2</th>\n",
       "      <td>3</td>\n",
       "      <td>0</td>\n",
       "      <td>1</td>\n",
       "      <td>1</td>\n",
       "      <td>0</td>\n",
       "      <td>0</td>\n",
       "      <td>1</td>\n",
       "      <td>1</td>\n",
       "      <td>MEMORY</td>\n",
       "    </tr>\n",
       "    <tr>\n",
       "      <th>3</th>\n",
       "      <td>4</td>\n",
       "      <td>0</td>\n",
       "      <td>1</td>\n",
       "      <td>0</td>\n",
       "      <td>1</td>\n",
       "      <td>1</td>\n",
       "      <td>0</td>\n",
       "      <td>1</td>\n",
       "      <td>MEMORY</td>\n",
       "    </tr>\n",
       "    <tr>\n",
       "      <th>4</th>\n",
       "      <td>5</td>\n",
       "      <td>1</td>\n",
       "      <td>1</td>\n",
       "      <td>0</td>\n",
       "      <td>1</td>\n",
       "      <td>0</td>\n",
       "      <td>1</td>\n",
       "      <td>0</td>\n",
       "      <td>NETWORK_DELAY</td>\n",
       "    </tr>\n",
       "  </tbody>\n",
       "</table>\n",
       "</div>"
      ],
      "text/plain": [
       "   ID  CPU_LOAD  MEMORY_LOAD  DELAY  ERROR_1000  ERROR_1001  ERROR_1002  \\\n",
       "0   1         0            0      0           0           1           0   \n",
       "1   2         0            0      0           0           0           0   \n",
       "2   3         0            1      1           0           0           1   \n",
       "3   4         0            1      0           1           1           0   \n",
       "4   5         1            1      0           1           0           1   \n",
       "\n",
       "   ERROR_1003     ROOT_CAUSE  \n",
       "0           1         MEMORY  \n",
       "1           1         MEMORY  \n",
       "2           1         MEMORY  \n",
       "3           1         MEMORY  \n",
       "4           0  NETWORK_DELAY  "
      ]
     },
     "execution_count": 32,
     "metadata": {},
     "output_type": "execute_result"
    }
   ],
   "source": [
    "import pandas as pd\n",
    "import os\n",
    "import tensorflow as tf\n",
    "\n",
    "#Load the data file into a Pandas Dataframe\n",
    "symptom_data = pd.read_csv(\"root_cause_analysis.csv\")\n",
    "\n",
    "#Explore the data loaded\n",
    "print(symptom_data.dtypes)\n",
    "symptom_data.head()"
   ]
  },
  {
   "cell_type": "code",
   "execution_count": 33,
   "metadata": {},
   "outputs": [
    {
     "name": "stdout",
     "output_type": "stream",
     "text": [
      "<class 'pandas.core.frame.DataFrame'>\n",
      "RangeIndex: 1000 entries, 0 to 999\n",
      "Data columns (total 9 columns):\n",
      " #   Column       Non-Null Count  Dtype \n",
      "---  ------       --------------  ----- \n",
      " 0   ID           1000 non-null   int64 \n",
      " 1   CPU_LOAD     1000 non-null   int64 \n",
      " 2   MEMORY_LOAD  1000 non-null   int64 \n",
      " 3   DELAY        1000 non-null   int64 \n",
      " 4   ERROR_1000   1000 non-null   int64 \n",
      " 5   ERROR_1001   1000 non-null   int64 \n",
      " 6   ERROR_1002   1000 non-null   int64 \n",
      " 7   ERROR_1003   1000 non-null   int64 \n",
      " 8   ROOT_CAUSE   1000 non-null   object\n",
      "dtypes: int64(8), object(1)\n",
      "memory usage: 70.4+ KB\n"
     ]
    }
   ],
   "source": [
    "symptom_data.info()"
   ]
  },
  {
   "cell_type": "markdown",
   "metadata": {},
   "source": [
    "### Convert  data\n",
    "\n",
    "Input data needs to be converted to formats that can be consumed by ML algorithms"
   ]
  },
  {
   "cell_type": "code",
   "execution_count": 34,
   "metadata": {},
   "outputs": [
    {
     "name": "stdout",
     "output_type": "stream",
     "text": [
      "Shape of feature variables : (1000, 7)\n",
      "Shape of target variable : (1000, 3)\n"
     ]
    }
   ],
   "source": [
    "from sklearn import preprocessing\n",
    "\n",
    "label_encoder = preprocessing.LabelEncoder()\n",
    "symptom_data['ROOT_CAUSE'] = label_encoder.fit_transform(\n",
    "                                symptom_data['ROOT_CAUSE'])\n",
    "\n",
    "#Convert Pandas DataFrame to a numpy vector\n",
    "np_symptom = symptom_data.to_numpy().astype(float)\n",
    "\n",
    "#Extract the feature variables (X)\n",
    "X_train = np_symptom[:,1:8]\n",
    "\n",
    "#Extract the target variable (Y), convert to one-hot-encoding\n",
    "Y_train=np_symptom[:,8]\n",
    "Y_train = tf.keras.utils.to_categorical(Y_train,3)\n",
    "\n",
    "print(\"Shape of feature variables :\", X_train.shape)\n",
    "print(\"Shape of target variable :\",Y_train.shape)"
   ]
  },
  {
   "cell_type": "markdown",
   "metadata": {},
   "source": [
    "## 02.05. Building the Model with Keras"
   ]
  },
  {
   "cell_type": "code",
   "execution_count": 35,
   "metadata": {},
   "outputs": [
    {
     "name": "stdout",
     "output_type": "stream",
     "text": [
      "Epoch 1/20\n",
      "8/8 [==============================] - 0s 19ms/step - loss: 1.0180 - accuracy: 0.5675 - val_loss: 0.9543 - val_accuracy: 0.7100\n",
      "Epoch 2/20\n",
      "8/8 [==============================] - 0s 4ms/step - loss: 0.8504 - accuracy: 0.7900 - val_loss: 0.8063 - val_accuracy: 0.7400\n",
      "Epoch 3/20\n",
      "8/8 [==============================] - 0s 4ms/step - loss: 0.6967 - accuracy: 0.8125 - val_loss: 0.6824 - val_accuracy: 0.7500\n",
      "Epoch 4/20\n",
      "8/8 [==============================] - 0s 4ms/step - loss: 0.5714 - accuracy: 0.8138 - val_loss: 0.5940 - val_accuracy: 0.7600\n",
      "Epoch 5/20\n",
      "8/8 [==============================] - 0s 4ms/step - loss: 0.4866 - accuracy: 0.8300 - val_loss: 0.5469 - val_accuracy: 0.7900\n",
      "Epoch 6/20\n",
      "8/8 [==============================] - 0s 4ms/step - loss: 0.4515 - accuracy: 0.8350 - val_loss: 0.5353 - val_accuracy: 0.8000\n",
      "Epoch 7/20\n",
      "8/8 [==============================] - 0s 4ms/step - loss: 0.4350 - accuracy: 0.8413 - val_loss: 0.5342 - val_accuracy: 0.8000\n",
      "Epoch 8/20\n",
      "8/8 [==============================] - 0s 4ms/step - loss: 0.4284 - accuracy: 0.8450 - val_loss: 0.5225 - val_accuracy: 0.8200\n",
      "Epoch 9/20\n",
      "8/8 [==============================] - 0s 4ms/step - loss: 0.4223 - accuracy: 0.8525 - val_loss: 0.5240 - val_accuracy: 0.8300\n",
      "Epoch 10/20\n",
      "8/8 [==============================] - 0s 4ms/step - loss: 0.4167 - accuracy: 0.8575 - val_loss: 0.5206 - val_accuracy: 0.8000\n",
      "Epoch 11/20\n",
      "8/8 [==============================] - 0s 4ms/step - loss: 0.4101 - accuracy: 0.8537 - val_loss: 0.5244 - val_accuracy: 0.8300\n",
      "Epoch 12/20\n",
      "8/8 [==============================] - 0s 4ms/step - loss: 0.4046 - accuracy: 0.8612 - val_loss: 0.5118 - val_accuracy: 0.8100\n",
      "Epoch 13/20\n",
      "8/8 [==============================] - 0s 4ms/step - loss: 0.4007 - accuracy: 0.8587 - val_loss: 0.5089 - val_accuracy: 0.8100\n",
      "Epoch 14/20\n",
      "8/8 [==============================] - 0s 4ms/step - loss: 0.4009 - accuracy: 0.8525 - val_loss: 0.5191 - val_accuracy: 0.8300\n",
      "Epoch 15/20\n",
      "8/8 [==============================] - 0s 4ms/step - loss: 0.3906 - accuracy: 0.8612 - val_loss: 0.5023 - val_accuracy: 0.8100\n",
      "Epoch 16/20\n",
      "8/8 [==============================] - 0s 4ms/step - loss: 0.3875 - accuracy: 0.8587 - val_loss: 0.5022 - val_accuracy: 0.8100\n",
      "Epoch 17/20\n",
      "8/8 [==============================] - 0s 4ms/step - loss: 0.3829 - accuracy: 0.8625 - val_loss: 0.5062 - val_accuracy: 0.8100\n",
      "Epoch 18/20\n",
      "8/8 [==============================] - 0s 4ms/step - loss: 0.3780 - accuracy: 0.8575 - val_loss: 0.5008 - val_accuracy: 0.8100\n",
      "Epoch 19/20\n",
      "8/8 [==============================] - 0s 4ms/step - loss: 0.3742 - accuracy: 0.8587 - val_loss: 0.4993 - val_accuracy: 0.8100\n",
      "Epoch 20/20\n",
      "8/8 [==============================] - 0s 4ms/step - loss: 0.3720 - accuracy: 0.8637 - val_loss: 0.4977 - val_accuracy: 0.8100\n",
      "Model: \"sequential_1\"\n",
      "_________________________________________________________________\n",
      " Layer (type)                Output Shape              Param #   \n",
      "=================================================================\n",
      " Dense-Layer-1 (Dense)       (None, 128)               1024      \n",
      "                                                                 \n",
      " Dense-Layer-2 (Dense)       (None, 128)               16512     \n",
      "                                                                 \n",
      " Final (Dense)               (None, 3)                 387       \n",
      "                                                                 \n",
      "=================================================================\n",
      "Total params: 17,923\n",
      "Trainable params: 17,923\n",
      "Non-trainable params: 0\n",
      "_________________________________________________________________\n"
     ]
    }
   ],
   "source": [
    "from tensorflow import keras\n",
    "from tensorflow.keras import optimizers\n",
    "from tensorflow.keras.regularizers import l2\n",
    "\n",
    "#Setup Training Parameters\n",
    "EPOCHS=20\n",
    "BATCH_SIZE=100\n",
    "VERBOSE=1\n",
    "OUTPUT_CLASSES=len(label_encoder.classes_)\n",
    "N_HIDDEN=128\n",
    "VALIDATION_SPLIT=0.2\n",
    "\n",
    "#Create a Keras sequential model\n",
    "model = tf.keras.models.Sequential()\n",
    "#Add a Dense Layer\n",
    "model.add(keras.layers.Dense(N_HIDDEN,\n",
    "                             input_shape=(7,),\n",
    "                              name='Dense-Layer-1',\n",
    "                              activation='relu'))\n",
    "\n",
    "#Add a second dense layer\n",
    "model.add(keras.layers.Dense(N_HIDDEN,\n",
    "                              name='Dense-Layer-2',\n",
    "                              activation='relu'))\n",
    "\n",
    "#Add a softmax layer for categorial prediction\n",
    "model.add(keras.layers.Dense(OUTPUT_CLASSES,\n",
    "                             name='Final',\n",
    "                             activation='softmax'))\n",
    "\n",
    "#Compile the model, using Adam optimizer\n",
    "model.compile(optimizer='adam',\n",
    "              loss='categorical_crossentropy',\n",
    "              metrics=['accuracy'])\n",
    "\n",
    "#Build the model\n",
    "model.fit(X_train,\n",
    "          Y_train,\n",
    "          batch_size=BATCH_SIZE,\n",
    "          epochs=EPOCHS,\n",
    "          verbose=VERBOSE,\n",
    "          validation_split=VALIDATION_SPLIT)\n",
    "\n",
    "model.summary()"
   ]
  },
  {
   "cell_type": "markdown",
   "metadata": {},
   "source": [
    "## 02.06. Predicting Root Causes"
   ]
  },
  {
   "cell_type": "code",
   "execution_count": 41,
   "metadata": {},
   "outputs": [
    {
     "name": "stdout",
     "output_type": "stream",
     "text": [
      "1/1 [==============================] - 0s 27ms/step\n",
      "['DATABASE_ISSUE']\n"
     ]
    }
   ],
   "source": [
    "#Pass individual flags to Predict the root cause\n",
    "CPU_LOAD=1\n",
    "MEMORY_LOAD=0\n",
    "DELAY=0\n",
    "ERROR_1000=0\n",
    "ERROR_1001=1\n",
    "ERROR_1002=1\n",
    "ERROR_1003=0\n",
    "\n",
    "prediction=model.predict(\n",
    "    [[CPU_LOAD,MEMORY_LOAD,DELAY,\n",
    "      ERROR_1000,ERROR_1001,ERROR_1002,ERROR_1003]])\n",
    "\n",
    "predicted = np.argmax(prediction,axis=1)\n",
    "\n",
    "print(label_encoder.inverse_transform(predicted))"
   ]
  },
  {
   "cell_type": "code",
   "execution_count": 44,
   "metadata": {},
   "outputs": [
    {
     "name": "stdout",
     "output_type": "stream",
     "text": [
      "1/1 [==============================] - 0s 28ms/step\n",
      "['DATABASE_ISSUE' 'NETWORK_DELAY' 'MEMORY' 'DATABASE_ISSUE'\n",
      " 'DATABASE_ISSUE']\n"
     ]
    }
   ],
   "source": [
    "#Predicting as a Batch\n",
    "print(label_encoder.inverse_transform(\n",
    "        np.argmax(model.predict([[1,0,0,0,1,1,0],\n",
    "                                [0,1,1,1,0,0,0],\n",
    "                                [1,1,0,1,1,0,1],\n",
    "                                [0,0,0,0,0,1,0],\n",
    "                                [1,0,1,0,1,1,1]]),axis=1)))"
   ]
  },
  {
   "cell_type": "code",
   "execution_count": 25,
   "metadata": {},
   "outputs": [
    {
     "name": "stdout",
     "output_type": "stream",
     "text": [
      "The scikit-learn version is 1.1.2.\n"
     ]
    }
   ],
   "source": [
    "import sklearn\n",
    "\n",
    "print('The scikit-learn version is {}.'.format(sklearn.__version__))"
   ]
  },
  {
   "cell_type": "code",
   "execution_count": 22,
   "metadata": {},
   "outputs": [],
   "source": [
    "import pycaret\n",
    "from pycaret.classification import *"
   ]
  },
  {
   "cell_type": "code",
   "execution_count": null,
   "metadata": {},
   "outputs": [],
   "source": []
  }
 ],
 "metadata": {
  "kernelspec": {
   "display_name": "Python 3.9.7 ('base')",
   "language": "python",
   "name": "python3"
  },
  "language_info": {
   "codemirror_mode": {
    "name": "ipython",
    "version": 3
   },
   "file_extension": ".py",
   "mimetype": "text/x-python",
   "name": "python",
   "nbconvert_exporter": "python",
   "pygments_lexer": "ipython3",
   "version": "3.9.7"
  },
  "vscode": {
   "interpreter": {
    "hash": "946db19f66b39f9b9ed77a83d9ca7f354e6eb77687ff94e9a7347e5079f19d4b"
   }
  }
 },
 "nbformat": 4,
 "nbformat_minor": 4
}
